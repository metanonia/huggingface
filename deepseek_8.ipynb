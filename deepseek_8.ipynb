{
 "cells": [
  {
   "cell_type": "code",
   "execution_count": 1,
   "metadata": {},
   "outputs": [
    {
     "data": {
      "text/plain": [
       "True"
      ]
     },
     "execution_count": 1,
     "metadata": {},
     "output_type": "execute_result"
    }
   ],
   "source": [
    "from dotenv import load_dotenv\n",
    "\n",
    "load_dotenv()"
   ]
  },
  {
   "cell_type": "code",
   "execution_count": 2,
   "metadata": {},
   "outputs": [
    {
     "name": "stderr",
     "output_type": "stream",
     "text": [
      "/Volumes/data/source/huggingface/.venv/lib/python3.12/site-packages/tqdm/auto.py:21: TqdmWarning: IProgress not found. Please update jupyter and ipywidgets. See https://ipywidgets.readthedocs.io/en/stable/user_install.html\n",
      "  from .autonotebook import tqdm as notebook_tqdm\n"
     ]
    }
   ],
   "source": [
    "from transformers import AutoTokenizer\n",
    "\n",
    "# 예제: KoBERT 토크나이저 로드\n",
    "tokenizer = AutoTokenizer.from_pretrained(\"UNIVA-Bllossom/DeepSeek-llama3.1-Bllossom-8B\", trust_remote_code=True)"
   ]
  },
  {
   "cell_type": "code",
   "execution_count": 3,
   "metadata": {},
   "outputs": [
    {
     "name": "stdout",
     "output_type": "stream",
     "text": [
      "['íķľ', 'ê¸Ģ', 'ĠíĨ', 'łí', 'ģ', '¬', 'ëĤĺ', 'ìĿ´', 'ìłĢ', 'ĠíħĮ', 'ìĬ¤íĬ¸', 'ë¥¼', 'Ġì§Ħíĸī', 'íķ©ëĭĪëĭ¤', '.']\n",
      "Token IDs: [128000, 24486, 84391, 101497, 58260, 223, 105, 61415, 13094, 101464, 107573, 54289, 18918, 111809, 61938, 13]\n",
      "Decoded: <｜begin▁of▁sentence｜>한글 토크나이저 테스트를 진행합니다.\n"
     ]
    }
   ],
   "source": [
    "# 한글 문장 테스트\n",
    "text = \"한글 토크나이저 테스트를 진행합니다.\"\n",
    "tokens = tokenizer.tokenize(text)\n",
    "print(tokens)\n",
    "\n",
    "\n",
    "token_ids = tokenizer.encode(text)\n",
    "print(\"Token IDs:\", token_ids)\n",
    "\n",
    "decoded_text = tokenizer.decode(token_ids)\n",
    "print(\"Decoded:\", decoded_text)\n"
   ]
  },
  {
   "cell_type": "code",
   "execution_count": 5,
   "metadata": {},
   "outputs": [
    {
     "name": "stderr",
     "output_type": "stream",
     "text": [
      "Downloading shards: 100%|██████████| 4/4 [08:24<00:00, 126.12s/it]\n",
      "Loading checkpoint shards: 100%|██████████| 4/4 [01:41<00:00, 25.25s/it]\n"
     ]
    }
   ],
   "source": [
    "# Load model directly\n",
    "from transformers import AutoModelForCausalLM\n",
    "model = AutoModelForCausalLM.from_pretrained(\"UNIVA-Bllossom/DeepSeek-llama3.1-Bllossom-8B\", trust_remote_code=True)"
   ]
  },
  {
   "cell_type": "code",
   "execution_count": 6,
   "metadata": {},
   "outputs": [
    {
     "name": "stderr",
     "output_type": "stream",
     "text": [
      "Loading checkpoint shards: 100%|██████████| 4/4 [02:00<00:00, 30.17s/it]\n",
      "Device set to use cpu\n"
     ]
    },
    {
     "name": "stdout",
     "output_type": "stream",
     "text": [
      "{'role': 'assistant', 'content': '네, 인터넷을 설명하겠습니다.\\n\\n네, 인터넷은 전 세계적으로 연결된 컴퓨터 네트워크의 시스템입니다. 컴퓨터, 스마트폰, 태블릿, 인터넷 모뎀과 같은 장치들이 서로 연결되어 정보를 공유하고, 데이터를 전송하며, 네트워크를 통해 접근할 수 있습니다. 이 시스템은 전 세계적으로 사용되어, 사람들은 정보를 검색하고, 친구들과 소통하며, 엔터테인먼트를 즐기고, 상업적 활동을 수행할 수 있습니다.\\n\\n네, 인터넷은 실시간으로 정보를 제공하고, 다양한 서비스를 제공합니다. 예를 들어, 웹 브라우저를 사용하여 웹사이트를 방문하고, 이메일을 보내거나, 소셜 미디어를 사용하며, 온라인 쇼핑을 할 수 있습니다. 또한, 인터넷은 데이터를 전송하고, 파일을 공유하고, 비디오를 스트리밍하는 데 사용됩니다.\\n\\n네, 인터넷은 고속 인터넷 연결을 통해 빠르게 정보를 전달하고, 대량 데이터를 전송할 수 있습니다. 그러나, 네트워크 속도와 안정성은 인터넷 연결의 품질에 따라 다릅니다. 고속 인터넷 연결은 빠른 데이터 전송을 가능하게 하지만, 느린 연결은 대역폭을 제한할 수 있습니다.\\n\\n네, 인터넷은 또한 다양한 서비스와 응용 프로그램을 제공합니다. 예를 들어, cloud computing, 인터넷 banking, online gaming, e-commerce 등이 있습니다. 이 서비스들은 사용자에게 편리함을 제공하고, 현대 사회의 일상 생활을 더욱 간편하게 만듭니다.\\n\\n네, 인터넷은 전 세계적으로 널리 사용되고 있으며, 많은 사람들이 이를 통해 정보를 공유하고, 소통하며, 일상 생활을 수행합니다. 그러나, 인터넷의 사용은 또한 개인 정보 보호와 보안 문제를 야기할 수 있습니다. 따라서, 인터넷을 안전하게 사용하기 위해 사용자들은 보안 장치를 사용하고, 개인 정보를 보호하는 것이 중요합니다.\\n\\n네, 인터넷은 현대 사회의 핵심 기술입니다. 네트워크가 연결되어 있고, 데이터가 전송되고, 서비스가 제공되는 환경을 만들어주며, 사용자들에게 다양한 기회를 제공합니다. 하지만, 인터넷의 사용은 또한 사용자에게 책임을 요구하며, 올바르게 사용하여 안전하고, 효율적으로 인터넷을 활용해야 합니다. 네, 인터넷이'}\n",
      "[{'generated_text': [{'role': 'system', 'content': 'You are a medieval knight and must provide explanations to modern people.'}, {'role': 'user', 'content': '내가 인터넷을 어떻게 설명할수 있을까?'}, {'role': 'assistant', 'content': '네, 인터넷을 설명하겠습니다.\\n\\n네, 인터넷은 전 세계적으로 연결된 컴퓨터 네트워크의 시스템입니다. 컴퓨터, 스마트폰, 태블릿, 인터넷 모뎀과 같은 장치들이 서로 연결되어 정보를 공유하고, 데이터를 전송하며, 네트워크를 통해 접근할 수 있습니다. 이 시스템은 전 세계적으로 사용되어, 사람들은 정보를 검색하고, 친구들과 소통하며, 엔터테인먼트를 즐기고, 상업적 활동을 수행할 수 있습니다.\\n\\n네, 인터넷은 실시간으로 정보를 제공하고, 다양한 서비스를 제공합니다. 예를 들어, 웹 브라우저를 사용하여 웹사이트를 방문하고, 이메일을 보내거나, 소셜 미디어를 사용하며, 온라인 쇼핑을 할 수 있습니다. 또한, 인터넷은 데이터를 전송하고, 파일을 공유하고, 비디오를 스트리밍하는 데 사용됩니다.\\n\\n네, 인터넷은 고속 인터넷 연결을 통해 빠르게 정보를 전달하고, 대량 데이터를 전송할 수 있습니다. 그러나, 네트워크 속도와 안정성은 인터넷 연결의 품질에 따라 다릅니다. 고속 인터넷 연결은 빠른 데이터 전송을 가능하게 하지만, 느린 연결은 대역폭을 제한할 수 있습니다.\\n\\n네, 인터넷은 또한 다양한 서비스와 응용 프로그램을 제공합니다. 예를 들어, cloud computing, 인터넷 banking, online gaming, e-commerce 등이 있습니다. 이 서비스들은 사용자에게 편리함을 제공하고, 현대 사회의 일상 생활을 더욱 간편하게 만듭니다.\\n\\n네, 인터넷은 전 세계적으로 널리 사용되고 있으며, 많은 사람들이 이를 통해 정보를 공유하고, 소통하며, 일상 생활을 수행합니다. 그러나, 인터넷의 사용은 또한 개인 정보 보호와 보안 문제를 야기할 수 있습니다. 따라서, 인터넷을 안전하게 사용하기 위해 사용자들은 보안 장치를 사용하고, 개인 정보를 보호하는 것이 중요합니다.\\n\\n네, 인터넷은 현대 사회의 핵심 기술입니다. 네트워크가 연결되어 있고, 데이터가 전송되고, 서비스가 제공되는 환경을 만들어주며, 사용자들에게 다양한 기회를 제공합니다. 하지만, 인터넷의 사용은 또한 사용자에게 책임을 요구하며, 올바르게 사용하여 안전하고, 효율적으로 인터넷을 활용해야 합니다. 네, 인터넷이'}]}]\n"
     ]
    }
   ],
   "source": [
    "import transformers\n",
    "\n",
    "pipeline = transformers.pipeline(\n",
    "    \"text-generation\",\n",
    "    model=\"UNIVA-Bllossom/DeepSeek-llama3.1-Bllossom-8B\",\n",
    "    model_kwargs={\"torch_dtype\": \"float32\"},  # BF16 대신 float32 사용\n",
    "    device_map=\"cpu\",  # CPU에서 실행 (MPS 비활성화)\n",
    ")\n",
    "\n",
    "messages = [\n",
    "    {\"role\": \"system\", \"content\": \"You are a medieval knight and must provide explanations to modern people.\"},\n",
    "    {\"role\": \"user\", \"content\": \"내가 인터넷을 어떻게 설명할수 있을까?\"},\n",
    "]\n",
    "\n",
    "outputs = pipeline(messages, max_new_tokens=512)\n",
    "print(outputs[0][\"generated_text\"][-1])\n",
    "print(outputs)\n"
   ]
  },
  {
   "cell_type": "markdown",
   "metadata": {},
   "source": []
  },
  {
   "cell_type": "markdown",
   "metadata": {},
   "source": []
  },
  {
   "cell_type": "code",
   "execution_count": 1,
   "metadata": {},
   "outputs": [
    {
     "name": "stderr",
     "output_type": "stream",
     "text": [
      "/Volumes/data/source/huggingface/.venv/lib/python3.12/site-packages/tqdm/auto.py:21: TqdmWarning: IProgress not found. Please update jupyter and ipywidgets. See https://ipywidgets.readthedocs.io/en/stable/user_install.html\n",
      "  from .autonotebook import tqdm as notebook_tqdm\n",
      "Loading checkpoint shards: 100%|██████████| 4/4 [00:55<00:00, 13.79s/it]\n"
     ]
    }
   ],
   "source": [
    "from transformers import AutoModelForCausalLM, AutoTokenizer\n",
    "import torch\n",
    "\n",
    "model = AutoModelForCausalLM.from_pretrained(\n",
    "    \"UNIVA-Bllossom/DeepSeek-llama3.1-Bllossom-8B\",\n",
    "    torch_dtype=\"float32\",\n",
    "    device_map=\"cpu\"\n",
    ")\n",
    "tokenizer = AutoTokenizer.from_pretrained(\"UNIVA-Bllossom/DeepSeek-llama3.3-Bllossom-70B\")\n",
    "\n",
    "system='''\n",
    "You are a highly capable assistant. For every user question, follow these instructions exactly:\n",
    "    1.\tFirst, think through the problem step-by-step in English. Enclose all of your internal reasoning between <think> and </think> tags. This chain-of-thought should detail your reasoning process.\n",
    "    2.\tAfter the closing </think> tag, provide your final answer.\n",
    "    3.\tDo not include any additional text or commentary outside of this format.\n",
    "    4.\tYour output should strictly follow this structure:\n",
    "\n",
    "<think>\n",
    "[Your detailed step-by-step reasoning in English]\n",
    "</think>\n",
    "[Your final answer]\n",
    "'''"
   ]
  },
  {
   "cell_type": "code",
   "execution_count": 3,
   "metadata": {},
   "outputs": [
    {
     "name": "stderr",
     "output_type": "stream",
     "text": [
      "Setting `pad_token_id` to `eos_token_id`:128001 for open-end generation.\n"
     ]
    },
    {
     "name": "stdout",
     "output_type": "stream",
     "text": [
      "\n",
      "You are a highly capable assistant. For every user question, follow these instructions exactly:\n",
      "    1.\tFirst, think through the problem step-by-step in English. Enclose all of your internal reasoning between <think> and </think> tags. This chain-of-thought should detail your reasoning process.\n",
      "    2.\tAfter the closing </think> tag, provide your final answer.\n",
      "    3.\tDo not include any additional text or commentary outside of this format.\n",
      "    4.\tYour output should strictly follow this structure:\n",
      "\n",
      "<think>\n",
      "[Your detailed step-by-step reasoning in English]\n",
      "</think>\n",
      "[Your final answer]\n",
      "<｜User｜>철수, 영희, 민수가 3회의 게임에서 점수를 받았습니다. 영희의 점수는 민수의 점수의 두 배이며, 민수의 점수는 철수의 4배입니다. 철수가 10점을 받았다면 이 3명의 평균 점수를 계산하세요.<｜Assistant｜><think>\n",
      "First, I need to determine the scores of Heejae and Minsoo based on the given relationships. Heejae's score is twice Minsoo's score, and Minsoo's score is four times Jungsoo's score.\n",
      "\n",
      "Since Jungsoo scored 10 points, Minsoo's score is 4 times that, which is 40 points. Then, Heejae's score is twice Minsoo's score, so that's 80 points.\n",
      "\n",
      "Next, I'll add up all the scores: 10 (Jungsoo) + 40 (Minsoo) + 80 (Heejae) equals 130 points in total.\n",
      "\n",
      "Finally, to find the average score, I'll divide the total points by the number of participants, which is 3. So, 130 divided by 3 equals approximately 43.33.\n",
      "</think>문제를 단계별로 풀어봅시다.\n",
      "\n",
      "**주어진 정보:**\n",
      "- 철수(Jungsoo)는 10점을 받았습니다.\n",
      "- 영희(Heejae)의 점수는 민수(Minsoo)의 점수의 두 배입니다.\n",
      "- 민수의 점수는 철수의 점수의 4배입니다.\n",
      "\n",
      "**1단계: 민수의 점수 계산.**\n",
      "\\[\n",
      "\\text{민수 점수} = 4 \\times \\text{철수 점수} = 4 \\times 10 = 40 \\text{ 점}\n",
      "\\]\n",
      "\n",
      "**2단계: 영희의 점수 계산.**\n",
      "\\[\n",
      "\\text{영희 점수} = 2 \\times \\text{민수 점수} = 2 \\times 40 = 80 \\text{ 점}\n",
      "\\]\n",
      "\n",
      "**3단계: 총점 계산.**\n",
      "\\[\n",
      "\\text{총점} = \\text{철수 점수} + \\text{민수 점수} + \\text{영희 점수} = 10 + 40 + 80 = 130 \\text{ 점}\n",
      "\\]\n",
      "\n",
      "**4단계: 평균 점수 계산.**\n",
      "\\[\n",
      "\\text{평균 점수} = \\frac{\\text{총점}}{\\text{참가자 수}} = \\frac{130}{3} \\approx 43.\\overline{3}\n",
      "\\]\n",
      "\n",
      "**최종 답:**\n",
      "\\[\n",
      "\\boxed{43.\\overline{3}}\n",
      "\\]\n"
     ]
    }
   ],
   "source": [
    "text=\"철수, 영희, 민수가 3회의 게임에서 점수를 받았습니다. 영희의 점수는 민수의 점수의 두 배이며, 민수의 점수는 철수의 4배입니다. 철수가 10점을 받았다면 이 3명의 평균 점수를 계산하세요.\"\n",
    "chat = [\n",
    "    {\"role\": \"system\", \"content\": system},\n",
    "    {\"role\": \"user\", \"content\": text}\n",
    "]\n",
    "\n",
    "prompt=tokenizer.apply_chat_template(chat, tokenize=False, add_generation_prompt=True)\n",
    "model_inputs = tokenizer(\n",
    "    prompt,\n",
    "    return_tensors=\"pt\",\n",
    "    add_special_tokens=True\n",
    ")\n",
    "\n",
    "if \"token_type_ids\" in model_inputs:\n",
    "    del model_inputs[\"token_type_ids\"]\n",
    "\n",
    "model_inputs = {k: v.to(model.device) for k, v in model_inputs.items()}\n",
    "\n",
    "generated_ids = model.generate(\n",
    "    **model_inputs,\n",
    "    max_new_tokens=8192,\n",
    ")\n",
    "\n",
    "output = tokenizer.decode(generated_ids[0], skip_special_tokens=True)\n",
    "print(output)"
   ]
  }
 ],
 "metadata": {
  "kernelspec": {
   "display_name": ".venv",
   "language": "python",
   "name": "python3"
  },
  "language_info": {
   "codemirror_mode": {
    "name": "ipython",
    "version": 3
   },
   "file_extension": ".py",
   "mimetype": "text/x-python",
   "name": "python",
   "nbconvert_exporter": "python",
   "pygments_lexer": "ipython3",
   "version": "3.12.9"
  }
 },
 "nbformat": 4,
 "nbformat_minor": 2
}
