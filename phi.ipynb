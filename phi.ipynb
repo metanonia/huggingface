{
 "cells": [
  {
   "cell_type": "code",
   "execution_count": 1,
   "metadata": {},
   "outputs": [
    {
     "data": {
      "text/plain": [
       "True"
      ]
     },
     "execution_count": 1,
     "metadata": {},
     "output_type": "execute_result"
    }
   ],
   "source": [
    "from dotenv import load_dotenv\n",
    "\n",
    "load_dotenv()"
   ]
  },
  {
   "cell_type": "code",
   "execution_count": null,
   "metadata": {},
   "outputs": [
    {
     "name": "stderr",
     "output_type": "stream",
     "text": [
      "/Volumes/data/source/huggingface/.venv/lib/python3.12/site-packages/tqdm/auto.py:21: TqdmWarning: IProgress not found. Please update jupyter and ipywidgets. See https://ipywidgets.readthedocs.io/en/stable/user_install.html\n",
      "  from .autonotebook import tqdm as notebook_tqdm\n"
     ]
    }
   ],
   "source": [
    "from transformers import AutoTokenizer\n",
    "\n",
    "tokenizer = AutoTokenizer.from_pretrained(\"microsoft/Phi-4-mini-instruct\", trust_remote_code=True)"
   ]
  },
  {
   "cell_type": "code",
   "execution_count": 3,
   "metadata": {},
   "outputs": [
    {
     "name": "stdout",
     "output_type": "stream",
     "text": [
      "['íķľ', 'ê¸Ģ', 'ĠíĨł', 'íģ¬', 'ëĤĺ', 'ìĿ´', 'ìłĢ', 'ĠíħĮìĬ¤íĬ¸', 'ë¥¼', 'Ġì§Ħíĸī', 'íķ©ëĭĪëĭ¤', '.']\n",
      "Token IDs: [3748, 20442, 68258, 18334, 7663, 2186, 22316, 169814, 4831, 60954, 24490, 13]\n",
      "Decoded: 한글 토크나이저 테스트를 진행합니다.\n"
     ]
    }
   ],
   "source": [
    "# 한글 문장 테스트\n",
    "text = \"한글 토크나이저 테스트를 진행합니다.\"\n",
    "tokens = tokenizer.tokenize(text)\n",
    "print(tokens)\n",
    "\n",
    "\n",
    "token_ids = tokenizer.encode(text)\n",
    "print(\"Token IDs:\", token_ids)\n",
    "\n",
    "decoded_text = tokenizer.decode(token_ids)\n",
    "print(\"Decoded:\", decoded_text)\n"
   ]
  },
  {
   "cell_type": "code",
   "execution_count": 4,
   "metadata": {},
   "outputs": [
    {
     "name": "stderr",
     "output_type": "stream",
     "text": [
      "A new version of the following files was downloaded from https://huggingface.co/microsoft/Phi-4-mini-instruct:\n",
      "- configuration_phi3.py\n",
      ". Make sure to double-check they do not contain any added malicious code. To avoid downloading new versions of the code file, you can pin a revision.\n",
      "A new version of the following files was downloaded from https://huggingface.co/microsoft/Phi-4-mini-instruct:\n",
      "- modeling_phi3.py\n",
      ". Make sure to double-check they do not contain any added malicious code. To avoid downloading new versions of the code file, you can pin a revision.\n",
      "huggingface/tokenizers: The current process just got forked, after parallelism has already been used. Disabling parallelism to avoid deadlocks...\n",
      "To disable this warning, you can either:\n",
      "\t- Avoid using `tokenizers` before the fork if possible\n",
      "\t- Explicitly set the environment variable TOKENIZERS_PARALLELISM=(true | false)\n",
      "Downloading shards: 100%|██████████| 2/2 [00:00<00:00,  4.64it/s]\n",
      "Loading checkpoint shards: 100%|██████████| 2/2 [00:13<00:00,  6.90s/it]\n"
     ]
    }
   ],
   "source": [
    "# Load model directly\n",
    "from transformers import AutoModelForCausalLM\n",
    "model = AutoModelForCausalLM.from_pretrained(\"microsoft/Phi-4-mini-instruct\", trust_remote_code=True)"
   ]
  },
  {
   "cell_type": "code",
   "execution_count": 5,
   "metadata": {},
   "outputs": [
    {
     "name": "stderr",
     "output_type": "stream",
     "text": [
      "Loading checkpoint shards: 100%|██████████| 2/2 [00:17<00:00,  8.78s/it]\n",
      "Device set to use cpu\n"
     ]
    },
    {
     "name": "stdout",
     "output_type": "stream",
     "text": [
      "{'role': 'assistant', 'content': '물론이죠, 친구야. 인터넷을 설명하기 위해서, 네가 전통적인 교통 수단을 생각해 보세요. 예를 들어, 교통수단이 없으면, 다른 사람과 이야기하거나 물건을 보내는 데 시간이 걸리며, 여행하는 데 시간이 걸리며, 정보를 찾는 데 시간이 걸리며, 일상 생활에 많은 시간을 소비해야 합니다.\\n\\n이것이 인터넷과 같습니다. 그것은 전 세계의 사람들과 연결하는 강력한 통신 도구입니다. 인터넷은 정보, 소통, 콘텐츠를 빠르게 전송하는 방법을 제공합니다. 인터넷을 사용하면, 이메일을 보내거나 받거나, 다른 사람과 메시지를 보내거나, 웹사이트를 방문하거나, 비디오를 스트리밍하거나, 온라인 쇼핑을 할 수 있습니다. 인터넷은 전 세계의 사람들과 연결되어 있으며, 정보를 찾고, 새로운 것을 배우고, 다른 사람들과 소통할 수 있게 합니다.\\n\\n이것은 교통수단이 없을 때의 교통수단과 같습니다. 인터넷은 전 세계의 사람들과 연결되어 있으며, 정보를 찾고, 새로운 것을 배우고, 다른 사람들과 소통할 수 있게 합니다. 그것은 우리의 일상 생활에 많은 시간을 소비하는 것보다 훨씬 더 빠르고 효율적입니다.'}\n",
      "[{'generated_text': [{'role': 'system', 'content': 'You are a medieval knight and must provide explanations to modern people.'}, {'role': 'user', 'content': '내가 인터넷을 어떻게 설명할수 있을까?'}, {'role': 'assistant', 'content': '물론이죠, 친구야. 인터넷을 설명하기 위해서, 네가 전통적인 교통 수단을 생각해 보세요. 예를 들어, 교통수단이 없으면, 다른 사람과 이야기하거나 물건을 보내는 데 시간이 걸리며, 여행하는 데 시간이 걸리며, 정보를 찾는 데 시간이 걸리며, 일상 생활에 많은 시간을 소비해야 합니다.\\n\\n이것이 인터넷과 같습니다. 그것은 전 세계의 사람들과 연결하는 강력한 통신 도구입니다. 인터넷은 정보, 소통, 콘텐츠를 빠르게 전송하는 방법을 제공합니다. 인터넷을 사용하면, 이메일을 보내거나 받거나, 다른 사람과 메시지를 보내거나, 웹사이트를 방문하거나, 비디오를 스트리밍하거나, 온라인 쇼핑을 할 수 있습니다. 인터넷은 전 세계의 사람들과 연결되어 있으며, 정보를 찾고, 새로운 것을 배우고, 다른 사람들과 소통할 수 있게 합니다.\\n\\n이것은 교통수단이 없을 때의 교통수단과 같습니다. 인터넷은 전 세계의 사람들과 연결되어 있으며, 정보를 찾고, 새로운 것을 배우고, 다른 사람들과 소통할 수 있게 합니다. 그것은 우리의 일상 생활에 많은 시간을 소비하는 것보다 훨씬 더 빠르고 효율적입니다.'}]}]\n"
     ]
    }
   ],
   "source": [
    "import transformers\n",
    "\n",
    "pipeline = transformers.pipeline(\n",
    "    \"text-generation\",\n",
    "    model=\"microsoft/Phi-4-mini-instruct\",\n",
    "    model_kwargs={\"torch_dtype\": \"float32\"},  # BF16 대신 float32 사용\n",
    "    device_map=\"cpu\",  # CPU에서 실행 (MPS 비활성화)\n",
    ")\n",
    "\n",
    "messages = [\n",
    "    {\"role\": \"system\", \"content\": \"You are a medieval knight and must provide explanations to modern people.\"},\n",
    "    {\"role\": \"user\", \"content\": \"내가 인터넷을 어떻게 설명할수 있을까?\"},\n",
    "]\n",
    "\n",
    "outputs = pipeline(messages, max_new_tokens=512)\n",
    "print(outputs[0][\"generated_text\"][-1])\n",
    "print(outputs)\n"
   ]
  }
 ],
 "metadata": {
  "kernelspec": {
   "display_name": ".venv",
   "language": "python",
   "name": "python3"
  },
  "language_info": {
   "codemirror_mode": {
    "name": "ipython",
    "version": 3
   },
   "file_extension": ".py",
   "mimetype": "text/x-python",
   "name": "python",
   "nbconvert_exporter": "python",
   "pygments_lexer": "ipython3",
   "version": "3.12.9"
  }
 },
 "nbformat": 4,
 "nbformat_minor": 2
}
